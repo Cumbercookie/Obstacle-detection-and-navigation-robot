{
 "cells": [
  {
   "cell_type": "code",
   "execution_count": 6,
   "metadata": {},
   "outputs": [
    {
     "name": "stderr",
     "output_type": "stream",
     "text": [
      "\n",
      "image 1/1 f:\\riya bansal\\vs code\\python\\stair_images\\stair5.jpg: 416x640 2 descendings, 953.4ms\n",
      "Speed: 12.3ms preprocess, 953.4ms inference, 2.0ms postprocess per image at shape (1, 3, 416, 640)\n",
      "Results saved to \u001b[1mruns\\detect\\predict49\u001b[0m\n"
     ]
    },
    {
     "name": "stdout",
     "output_type": "stream",
     "text": [
      "1\n",
      "2\n",
      "[          1           1]\n",
      "right\n"
     ]
    }
   ],
   "source": [
    "from ultralytics import YOLO\n",
    "\n",
    "# Initialize YOLO with your trained model (best.pt)\n",
    "model = YOLO('./best.pt')\n",
    "\n",
    "# Perform object detection on an image (using the webcam as source)\n",
    "results = model(source='./stair_images/stair5.jpg', show=True, conf=0.3, save=True)\n",
    "detected_object = results[0].boxes.numpy()\n",
    "# print(detected_object)\n",
    "# print(\" | \")\n",
    "# print(results)\n",
    "# print(\" | \")\n",
    "# print(type(results))\n",
    "\n",
    "for obj in detected_object:\n",
    "        bbox = obj[:4]\n",
    "print(len(obj))\n",
    "print(len(detected_object))\n",
    "class_label = detected_object.cls\n",
    "print(class_label)\n",
    "\n",
    "if class_label[0] == 1:\n",
    "        print(\"right\")\n",
    "elif class_label[0] == 0:\n",
    "        print(\"left\")\n",
    "\n",
    "# source=0 uses the webcam as input source. You can replace it with the path to an image or a video file.\n",
    "# The \"show\" option displays the results on the screen, \"conf\" sets the confidence threshold, and \"save\" saves the results.\n",
    "\n",
    "# Process and use the detected objects as needed\n",
    "# The detected objects and their attributes are stored in \"results.pred\" for further processing.\n"
   ]
  },
  {
   "cell_type": "code",
   "execution_count": null,
   "metadata": {},
   "outputs": [],
   "source": [
    "!nvidia-smi\n",
    "!pip install ultralytics\n",
    "from ultralytics import YOLO\n",
    "import os\n",
    "from IPython.display import display, Image\n",
    "from IPython import display\n",
    "display.clear_output()\n",
    "!yolo checks\n",
    "!pip install roboflow\n",
    "\n",
    "from roboflow import Roboflow\n",
    "rf = Roboflow(api_key=\"tTV9T53wMglB8nTZaasM\")\n",
    "project = rf.workspace(\"college-xyupx\").project(\"stairs-3at2t\")\n",
    "dataset = project.version(1).download(\"yolov8\")\n",
    "!yolo task=detect mode=train model=yolov8m.pt data={dataset.location}/data.yaml epochs=20 imgsz=640\n",
    "Image(filename=f'/content/runs/detect/train4/confusion_matrix.png', width=600)\n",
    "Image(filename=f'/content/runs/detect/train4/results.png', width=600)\n",
    "!yolo task=detect mode=val model=/content/runs/detect/train4/weights/best.pt data={dataset.location}/data.yaml\n",
    "!yolo task=detect mode=predict model=/content/runs/detect/train4/weights/best.pt source={dataset.location}/test/images\n",
    "import glob\n",
    "from IPython.display import Image, display\n",
    "for image_path in glob.glob(f'/content/runs/detect/predict3/*.jpg'):\n",
    "  display(Image(filename=image_path, height=600))\n",
    "  print(\"\\n\")"
   ]
  }
 ],
 "metadata": {
  "kernelspec": {
   "display_name": "Python 3",
   "language": "python",
   "name": "python3"
  },
  "language_info": {
   "codemirror_mode": {
    "name": "ipython",
    "version": 3
   },
   "file_extension": ".py",
   "mimetype": "text/x-python",
   "name": "python",
   "nbconvert_exporter": "python",
   "pygments_lexer": "ipython3",
   "version": "3.10.6"
  }
 },
 "nbformat": 4,
 "nbformat_minor": 2
}
